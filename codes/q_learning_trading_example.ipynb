{
 "cells": [
  {
   "cell_type": "markdown",
   "metadata": {},
   "source": [
    "# Strategy Learner\n",
    "\n",
    "\n",
    "---\n",
    "\n",
    "This notebook provides an example of how a StrategyLearner works. This code is also available in the `__main__` function of `StrategyLearner.py`."
   ]
  },
  {
   "cell_type": "markdown",
   "metadata": {},
   "source": [
    "## Summary\n",
    "\n",
    "We choose a stock, an in-sample period and an out-of-sample period. We train a StrategyLearner on the data from the in-sample period and test it on the out-of-sample period. Then we report the performances of the portfolio (only consisting of the stock) and benchmark for both periods. Benchmark is The performance of a portfolio starting with ``$``100,000 cash, investing in 1000 shares of JPM and holding that position.\n",
    "\n",
    "* In this notebook, we choose the symbol JPM (JPMorgan Chase & Co.)\n",
    "* The in sample/development period is January 1, 2008 to December 31 2009.\n",
    "* The out of sample/testing period is January 1, 2010 to December 31 2011.\n",
    "* Starting cash is ``$``100,000.\n",
    "* Allowable positions are: 1000 shares long, 1000 shares short, 0 shares.\n",
    "* There is no limit on leverage.\n",
    "* Transaction costs: Commission: $0.00, Impact: 0.0.\n",
    "\n",
    "__*The performance of portfolio is better than benchmark in both periods!*__"
   ]
  },
  {
   "cell_type": "markdown",
   "metadata": {},
   "source": [
    "## Table of contents:\n",
    "[1) In-sample performance](#first)\n",
    "\n",
    "[2) Out-of-sample performance](#second)"
   ]
  },
  {
   "cell_type": "markdown",
   "metadata": {},
   "source": [
    "Import relevant libraries and modules"
   ]
  },
  {
   "cell_type": "code",
   "execution_count": 8,
   "metadata": {},
   "outputs": [
    {
     "data": {
      "text/plain": [
       "8192"
      ]
     },
     "execution_count": 8,
     "metadata": {},
     "output_type": "execute_result"
    }
   ],
   "source": [
    "2**13"
   ]
  },
  {
   "cell_type": "code",
   "execution_count": 7,
   "metadata": {},
   "outputs": [
    {
     "data": {
      "text/plain": [
       "6561"
      ]
     },
     "execution_count": 7,
     "metadata": {},
     "output_type": "execute_result"
    }
   ],
   "source": [
    "3**8"
   ]
  },
  {
   "cell_type": "code",
   "execution_count": 1,
   "metadata": {
    "collapsed": true
   },
   "outputs": [],
   "source": [
    "import datetime as dt\n",
    "\n",
    "from util import create_df_benchmark\n",
    "from StrategyLearner import StrategyLearner\n",
    "\n",
    "import marketsim\n",
    "import importlib\n",
    "importlib.reload(marketsim)\n",
    "from marketsim import compute_portvals_single_symbol, market_simulator\n",
    "from analysis import get_portfolio_value, get_portfolio_stats, plot_normalized_data"
   ]
  },
  {
   "cell_type": "markdown",
   "metadata": {},
   "source": [
    "Starting cash, symbol of interest, commission, and impact"
   ]
  },
  {
   "cell_type": "code",
   "execution_count": 2,
   "metadata": {
    "collapsed": true
   },
   "outputs": [],
   "source": [
    "start_val = 1000\n",
    "symbol = \"JPM\"\n",
    "commission = 0.00\n",
    "impact = 0.0\n",
    "num_shares = 1000"
   ]
  },
  {
   "cell_type": "markdown",
   "metadata": {},
   "source": [
    "---\n",
    "## 1) In-sample performance <a class=\"anchor\" id=\"first\"></a>\n",
    "\n",
    "Show the performances of portfolio and benchmark in the in-sample period"
   ]
  },
  {
   "cell_type": "markdown",
   "metadata": {},
   "source": [
    "Specify the start and end dates for this period"
   ]
  },
  {
   "cell_type": "code",
   "execution_count": 3,
   "metadata": {
    "collapsed": true
   },
   "outputs": [],
   "source": [
    "start_date = dt.datetime(2021, 1, 1)\n",
    "end_date = dt.datetime(2022, 3, 1)"
   ]
  },
  {
   "cell_type": "markdown",
   "metadata": {},
   "source": [
    "Get a dataframe of benchmark data. Benchmark is a portfolio starting with ``$``100,000, investing in 1000 shares of symbol and holding that position"
   ]
  },
  {
   "cell_type": "code",
   "execution_count": 85,
   "metadata": {},
   "outputs": [],
   "source": [
    "from indicators import get_momentum, get_sma_indicator, compute_bollinger_value\n",
    "from util import  get_feature_file\n",
    "\n",
    "# datafull = pd.DataFrame()\n",
    "\n",
    "symbols = os.listdir(\"../Data/Features\")\n",
    "for _ in symbols:\n",
    "    symbol = _.split(\".\")[0]\n",
    "    # Get adjusted close prices for symbol\n",
    "    df_features = get_feature_file(symbol)\n",
    "    prices = df_features['Close']\n",
    "    df_features.drop(columns=['Close'], inplace=True)\n",
    "\n",
    "    window = 10\n",
    "    # Compute rolling mean\n",
    "    rolling_mean = prices.rolling(window=window, min_periods=1).mean()\n",
    "    # Compute_rolling_std\n",
    "    rolling_std = prices.rolling(window=window, min_periods=1).std()\n",
    "    # Compute momentum\n",
    "    df_features['momentum'] = get_momentum(prices, window)\n",
    "    # Compute SMA indicator\n",
    "    df_features['sma_indicator'] = get_sma_indicator(prices, rolling_mean)\n",
    "    # Compute Bollinger value\n",
    "    df_features['bollinger_val'] = compute_bollinger_value(prices, rolling_mean, rolling_std)\n",
    "    # Create a dataframe with three features\n",
    "    # df_features = pd.concat([momentum, sma_indicator], axis=1)\n",
    "    # df_features = pd.concat([df_features, bollinger_val], axis=1)\n",
    "    df_features['Close'] = prices\n",
    "    df_features['Returns'] = prices.pct_change()\n",
    "    # df_features.to_csv(\"../Data/Features/\"+_, index=True)\n",
    "    \n",
    "    # df_features['returns'] = prices.pct_change()\n",
    "    # datafull = pd.concat([datafull, df_features], axis=0)\n",
    "    break\n",
    "\n",
    "# df_features.head(10)\n",
    "# datafull.reset_index(inplace=True)"
   ]
  },
  {
   "cell_type": "code",
   "execution_count": 86,
   "metadata": {},
   "outputs": [
    {
     "data": {
      "text/html": [
       "<div>\n",
       "<style scoped>\n",
       "    .dataframe tbody tr th:only-of-type {\n",
       "        vertical-align: middle;\n",
       "    }\n",
       "\n",
       "    .dataframe tbody tr th {\n",
       "        vertical-align: top;\n",
       "    }\n",
       "\n",
       "    .dataframe thead th {\n",
       "        text-align: right;\n",
       "    }\n",
       "</style>\n",
       "<table border=\"1\" class=\"dataframe\">\n",
       "  <thead>\n",
       "    <tr style=\"text-align: right;\">\n",
       "      <th></th>\n",
       "      <th>Symbol</th>\n",
       "      <th>alpha1</th>\n",
       "      <th>alpha3</th>\n",
       "      <th>alpha4</th>\n",
       "      <th>alpha5</th>\n",
       "      <th>alpha6</th>\n",
       "      <th>alpha7</th>\n",
       "      <th>alpha8</th>\n",
       "      <th>alpha9</th>\n",
       "      <th>alpha10</th>\n",
       "      <th>alpha11</th>\n",
       "      <th>momentum</th>\n",
       "      <th>sma_indicator</th>\n",
       "      <th>bollinger_val</th>\n",
       "      <th>Returns</th>\n",
       "      <th>Close</th>\n",
       "    </tr>\n",
       "    <tr>\n",
       "      <th>Datetime</th>\n",
       "      <th></th>\n",
       "      <th></th>\n",
       "      <th></th>\n",
       "      <th></th>\n",
       "      <th></th>\n",
       "      <th></th>\n",
       "      <th></th>\n",
       "      <th></th>\n",
       "      <th></th>\n",
       "      <th></th>\n",
       "      <th></th>\n",
       "      <th></th>\n",
       "      <th></th>\n",
       "      <th></th>\n",
       "      <th></th>\n",
       "      <th></th>\n",
       "    </tr>\n",
       "  </thead>\n",
       "  <tbody>\n",
       "    <tr>\n",
       "      <th>2021-01-05</th>\n",
       "      <td>CERN</td>\n",
       "      <td>NaN</td>\n",
       "      <td>NaN</td>\n",
       "      <td>NaN</td>\n",
       "      <td>NaN</td>\n",
       "      <td>NaN</td>\n",
       "      <td>-1.0</td>\n",
       "      <td>NaN</td>\n",
       "      <td>NaN</td>\n",
       "      <td>NaN</td>\n",
       "      <td>NaN</td>\n",
       "      <td>NaN</td>\n",
       "      <td>0.000000</td>\n",
       "      <td>NaN</td>\n",
       "      <td>NaN</td>\n",
       "      <td>78.199996</td>\n",
       "    </tr>\n",
       "    <tr>\n",
       "      <th>2021-01-06</th>\n",
       "      <td>CERN</td>\n",
       "      <td>NaN</td>\n",
       "      <td>NaN</td>\n",
       "      <td>NaN</td>\n",
       "      <td>NaN</td>\n",
       "      <td>NaN</td>\n",
       "      <td>-1.0</td>\n",
       "      <td>NaN</td>\n",
       "      <td>-0.630005</td>\n",
       "      <td>0.171053</td>\n",
       "      <td>NaN</td>\n",
       "      <td>NaN</td>\n",
       "      <td>0.004012</td>\n",
       "      <td>0.707107</td>\n",
       "      <td>0.008056</td>\n",
       "      <td>78.830001</td>\n",
       "    </tr>\n",
       "    <tr>\n",
       "      <th>2021-01-07</th>\n",
       "      <td>CERN</td>\n",
       "      <td>NaN</td>\n",
       "      <td>NaN</td>\n",
       "      <td>NaN</td>\n",
       "      <td>NaN</td>\n",
       "      <td>NaN</td>\n",
       "      <td>-1.0</td>\n",
       "      <td>NaN</td>\n",
       "      <td>-0.769997</td>\n",
       "      <td>0.142544</td>\n",
       "      <td>NaN</td>\n",
       "      <td>NaN</td>\n",
       "      <td>0.009170</td>\n",
       "      <td>1.031614</td>\n",
       "      <td>0.009768</td>\n",
       "      <td>79.599998</td>\n",
       "    </tr>\n",
       "    <tr>\n",
       "      <th>2021-01-08</th>\n",
       "      <td>CERN</td>\n",
       "      <td>NaN</td>\n",
       "      <td>NaN</td>\n",
       "      <td>NaN</td>\n",
       "      <td>NaN</td>\n",
       "      <td>NaN</td>\n",
       "      <td>-1.0</td>\n",
       "      <td>NaN</td>\n",
       "      <td>-0.260002</td>\n",
       "      <td>0.322368</td>\n",
       "      <td>0.890901</td>\n",
       "      <td>NaN</td>\n",
       "      <td>0.009321</td>\n",
       "      <td>0.977279</td>\n",
       "      <td>0.003266</td>\n",
       "      <td>79.860000</td>\n",
       "    </tr>\n",
       "    <tr>\n",
       "      <th>2021-01-12</th>\n",
       "      <td>CERN</td>\n",
       "      <td>NaN</td>\n",
       "      <td>NaN</td>\n",
       "      <td>NaN</td>\n",
       "      <td>NaN</td>\n",
       "      <td>NaN</td>\n",
       "      <td>-1.0</td>\n",
       "      <td>NaN</td>\n",
       "      <td>0.930000</td>\n",
       "      <td>0.901316</td>\n",
       "      <td>0.791577</td>\n",
       "      <td>NaN</td>\n",
       "      <td>-0.001947</td>\n",
       "      <td>-0.233619</td>\n",
       "      <td>-0.011645</td>\n",
       "      <td>78.930000</td>\n",
       "    </tr>\n",
       "  </tbody>\n",
       "</table>\n",
       "</div>"
      ],
      "text/plain": [
       "           Symbol  alpha1  alpha3  alpha4  alpha5  alpha6  alpha7  alpha8  \\\n",
       "Datetime                                                                    \n",
       "2021-01-05   CERN     NaN     NaN     NaN     NaN     NaN    -1.0     NaN   \n",
       "2021-01-06   CERN     NaN     NaN     NaN     NaN     NaN    -1.0     NaN   \n",
       "2021-01-07   CERN     NaN     NaN     NaN     NaN     NaN    -1.0     NaN   \n",
       "2021-01-08   CERN     NaN     NaN     NaN     NaN     NaN    -1.0     NaN   \n",
       "2021-01-12   CERN     NaN     NaN     NaN     NaN     NaN    -1.0     NaN   \n",
       "\n",
       "              alpha9   alpha10   alpha11  momentum  sma_indicator  \\\n",
       "Datetime                                                            \n",
       "2021-01-05       NaN       NaN       NaN       NaN       0.000000   \n",
       "2021-01-06 -0.630005  0.171053       NaN       NaN       0.004012   \n",
       "2021-01-07 -0.769997  0.142544       NaN       NaN       0.009170   \n",
       "2021-01-08 -0.260002  0.322368  0.890901       NaN       0.009321   \n",
       "2021-01-12  0.930000  0.901316  0.791577       NaN      -0.001947   \n",
       "\n",
       "            bollinger_val   Returns      Close  \n",
       "Datetime                                        \n",
       "2021-01-05            NaN       NaN  78.199996  \n",
       "2021-01-06       0.707107  0.008056  78.830001  \n",
       "2021-01-07       1.031614  0.009768  79.599998  \n",
       "2021-01-08       0.977279  0.003266  79.860000  \n",
       "2021-01-12      -0.233619 -0.011645  78.930000  "
      ]
     },
     "execution_count": 86,
     "metadata": {},
     "output_type": "execute_result"
    }
   ],
   "source": [
    "df_features.head()"
   ]
  },
  {
   "cell_type": "code",
   "execution_count": 87,
   "metadata": {},
   "outputs": [
    {
     "data": {
      "text/html": [
       "<div>\n",
       "<style scoped>\n",
       "    .dataframe tbody tr th:only-of-type {\n",
       "        vertical-align: middle;\n",
       "    }\n",
       "\n",
       "    .dataframe tbody tr th {\n",
       "        vertical-align: top;\n",
       "    }\n",
       "\n",
       "    .dataframe thead th {\n",
       "        text-align: right;\n",
       "    }\n",
       "</style>\n",
       "<table border=\"1\" class=\"dataframe\">\n",
       "  <thead>\n",
       "    <tr style=\"text-align: right;\">\n",
       "      <th></th>\n",
       "      <th>Symbol</th>\n",
       "      <th>alpha1</th>\n",
       "      <th>alpha3</th>\n",
       "      <th>alpha4</th>\n",
       "      <th>alpha5</th>\n",
       "      <th>alpha6</th>\n",
       "      <th>alpha7</th>\n",
       "      <th>alpha8</th>\n",
       "      <th>alpha9</th>\n",
       "      <th>alpha10</th>\n",
       "      <th>alpha11</th>\n",
       "      <th>momentum</th>\n",
       "      <th>sma_indicator</th>\n",
       "      <th>bollinger_val</th>\n",
       "      <th>Returns</th>\n",
       "      <th>Close</th>\n",
       "    </tr>\n",
       "    <tr>\n",
       "      <th>Datetime</th>\n",
       "      <th></th>\n",
       "      <th></th>\n",
       "      <th></th>\n",
       "      <th></th>\n",
       "      <th></th>\n",
       "      <th></th>\n",
       "      <th></th>\n",
       "      <th></th>\n",
       "      <th></th>\n",
       "      <th></th>\n",
       "      <th></th>\n",
       "      <th></th>\n",
       "      <th></th>\n",
       "      <th></th>\n",
       "      <th></th>\n",
       "      <th></th>\n",
       "    </tr>\n",
       "  </thead>\n",
       "  <tbody>\n",
       "    <tr>\n",
       "      <th>2021-01-05</th>\n",
       "      <td>CERN</td>\n",
       "      <td>NaN</td>\n",
       "      <td>NaN</td>\n",
       "      <td>NaN</td>\n",
       "      <td>NaN</td>\n",
       "      <td>NaN</td>\n",
       "      <td>0.0</td>\n",
       "      <td>NaN</td>\n",
       "      <td>NaN</td>\n",
       "      <td>NaN</td>\n",
       "      <td>NaN</td>\n",
       "      <td>NaN</td>\n",
       "      <td>0.0</td>\n",
       "      <td>NaN</td>\n",
       "      <td>NaN</td>\n",
       "      <td>78.199996</td>\n",
       "    </tr>\n",
       "    <tr>\n",
       "      <th>2021-01-06</th>\n",
       "      <td>CERN</td>\n",
       "      <td>NaN</td>\n",
       "      <td>NaN</td>\n",
       "      <td>NaN</td>\n",
       "      <td>NaN</td>\n",
       "      <td>NaN</td>\n",
       "      <td>0.0</td>\n",
       "      <td>NaN</td>\n",
       "      <td>1.0</td>\n",
       "      <td>0.0</td>\n",
       "      <td>NaN</td>\n",
       "      <td>NaN</td>\n",
       "      <td>0.0</td>\n",
       "      <td>1.0</td>\n",
       "      <td>0.008056</td>\n",
       "      <td>78.830001</td>\n",
       "    </tr>\n",
       "    <tr>\n",
       "      <th>2021-01-07</th>\n",
       "      <td>CERN</td>\n",
       "      <td>NaN</td>\n",
       "      <td>NaN</td>\n",
       "      <td>NaN</td>\n",
       "      <td>NaN</td>\n",
       "      <td>NaN</td>\n",
       "      <td>0.0</td>\n",
       "      <td>NaN</td>\n",
       "      <td>1.0</td>\n",
       "      <td>0.0</td>\n",
       "      <td>NaN</td>\n",
       "      <td>NaN</td>\n",
       "      <td>1.0</td>\n",
       "      <td>1.0</td>\n",
       "      <td>0.009768</td>\n",
       "      <td>79.599998</td>\n",
       "    </tr>\n",
       "    <tr>\n",
       "      <th>2021-01-08</th>\n",
       "      <td>CERN</td>\n",
       "      <td>NaN</td>\n",
       "      <td>NaN</td>\n",
       "      <td>NaN</td>\n",
       "      <td>NaN</td>\n",
       "      <td>NaN</td>\n",
       "      <td>0.0</td>\n",
       "      <td>NaN</td>\n",
       "      <td>1.0</td>\n",
       "      <td>0.0</td>\n",
       "      <td>1.0</td>\n",
       "      <td>NaN</td>\n",
       "      <td>0.0</td>\n",
       "      <td>1.0</td>\n",
       "      <td>0.003266</td>\n",
       "      <td>79.860000</td>\n",
       "    </tr>\n",
       "    <tr>\n",
       "      <th>2021-01-12</th>\n",
       "      <td>CERN</td>\n",
       "      <td>NaN</td>\n",
       "      <td>NaN</td>\n",
       "      <td>NaN</td>\n",
       "      <td>NaN</td>\n",
       "      <td>NaN</td>\n",
       "      <td>0.0</td>\n",
       "      <td>NaN</td>\n",
       "      <td>1.0</td>\n",
       "      <td>1.0</td>\n",
       "      <td>1.0</td>\n",
       "      <td>NaN</td>\n",
       "      <td>0.0</td>\n",
       "      <td>0.0</td>\n",
       "      <td>-0.011645</td>\n",
       "      <td>78.930000</td>\n",
       "    </tr>\n",
       "  </tbody>\n",
       "</table>\n",
       "</div>"
      ],
      "text/plain": [
       "           Symbol  alpha1  alpha3  alpha4  alpha5  alpha6  alpha7  alpha8  \\\n",
       "Datetime                                                                    \n",
       "2021-01-05   CERN     NaN     NaN     NaN     NaN     NaN     0.0     NaN   \n",
       "2021-01-06   CERN     NaN     NaN     NaN     NaN     NaN     0.0     NaN   \n",
       "2021-01-07   CERN     NaN     NaN     NaN     NaN     NaN     0.0     NaN   \n",
       "2021-01-08   CERN     NaN     NaN     NaN     NaN     NaN     0.0     NaN   \n",
       "2021-01-12   CERN     NaN     NaN     NaN     NaN     NaN     0.0     NaN   \n",
       "\n",
       "            alpha9  alpha10  alpha11  momentum  sma_indicator  bollinger_val  \\\n",
       "Datetime                                                                       \n",
       "2021-01-05     NaN      NaN      NaN       NaN            0.0            NaN   \n",
       "2021-01-06     1.0      0.0      NaN       NaN            0.0            1.0   \n",
       "2021-01-07     1.0      0.0      NaN       NaN            1.0            1.0   \n",
       "2021-01-08     1.0      0.0      1.0       NaN            0.0            1.0   \n",
       "2021-01-12     1.0      1.0      1.0       NaN            0.0            0.0   \n",
       "\n",
       "             Returns      Close  \n",
       "Datetime                         \n",
       "2021-01-05       NaN  78.199996  \n",
       "2021-01-06  0.008056  78.830001  \n",
       "2021-01-07  0.009768  79.599998  \n",
       "2021-01-08  0.003266  79.860000  \n",
       "2021-01-12 -0.011645  78.930000  "
      ]
     },
     "execution_count": 87,
     "metadata": {},
     "output_type": "execute_result"
    }
   ],
   "source": [
    "# import numpy as np\n",
    "# import pandas as pd\n",
    "# thresholds = pd.read_csv(\"../Data/average.csv\", index_col='Datetime',\n",
    "# parse_dates=True, na_values=['nan'])\n",
    "\n",
    "# thresholds = thresholds.rolling(window=10, min_periods=1).mean()\n",
    "\n",
    "df_features[thresholds.keys()] = df_features[thresholds.keys()] - thresholds\n",
    "for key in thresholds.keys():\n",
    "    df_features.loc[df_features[key]<0, key] = 0\n",
    "    df_features.loc[df_features[key]>0, key] = 1\n",
    "df_features.head()\n",
    "# df_features = df_features.dropna()\n",
    "# for i,row in df_features.iterrows():\n",
    "#     state = np.array(row.drop(['Symbol', 'Close','Returns'])).reshape(1, -1)\n",
    "#     print(state)\n",
    "#     break"
   ]
  },
  {
   "cell_type": "code",
   "execution_count": 88,
   "metadata": {},
   "outputs": [
    {
     "data": {
      "text/plain": [
       "(187, 16)"
      ]
     },
     "execution_count": 88,
     "metadata": {},
     "output_type": "execute_result"
    }
   ],
   "source": [
    "df_features.dropna(inplace=True)\n",
    "df_features.shape"
   ]
  },
  {
   "cell_type": "code",
   "execution_count": 92,
   "metadata": {},
   "outputs": [
    {
     "name": "stdout",
     "output_type": "stream",
     "text": [
      "3840\n"
     ]
    }
   ],
   "source": [
    "def bi_to_decimal(binary_array):\n",
    "    return int(''.join(str(x) for x in binary_array), 2)\n",
    "\n",
    "for i, row in df_features.iterrows():\n",
    "    state = np.array(row.drop(['Symbol', 'Close','Returns'])).astype(int)\n",
    "\n",
    "    print(bi_to_decimal(state))\n",
    "    break"
   ]
  },
  {
   "cell_type": "code",
   "execution_count": 2,
   "metadata": {},
   "outputs": [
    {
     "data": {
      "text/plain": [
       "0.16666666666666666"
      ]
     },
     "execution_count": 2,
     "metadata": {},
     "output_type": "execute_result"
    }
   ],
   "source": [
    "500/3000"
   ]
  },
  {
   "cell_type": "code",
   "execution_count": 96,
   "metadata": {},
   "outputs": [
    {
     "data": {
      "text/plain": [
       "'[0 1 1 1 1 0 0 0 0 0 0 0 0]'"
      ]
     },
     "execution_count": 96,
     "metadata": {},
     "output_type": "execute_result"
    }
   ],
   "source": [
    "str(state)"
   ]
  },
  {
   "cell_type": "code",
   "execution_count": 6,
   "metadata": {
    "scrolled": false
   },
   "outputs": [
    {
     "name": "stdout",
     "output_type": "stream",
     "text": [
      "            Shares\n",
      "Date              \n",
      "2008-01-02    1000\n",
      "2009-12-31   -1000\n"
     ]
    }
   ],
   "source": [
    "df_benchmark_trades = create_df_benchmark(symbol, start_date, end_date, \n",
    "                                              num_shares)\n",
    "print (df_benchmark_trades)"
   ]
  },
  {
   "cell_type": "code",
   "execution_count": 25,
   "metadata": {},
   "outputs": [
    {
     "name": "stdout",
     "output_type": "stream",
     "text": [
      "                     Shares\n",
      "Datetime                   \n",
      "2021-09-01 13:30:00    1000\n",
      "2021-12-30 21:00:00   -1000\n"
     ]
    }
   ],
   "source": [
    "df_benchmark_trades = create_df_benchmark(symbol, start_date, end_date, \n",
    "                                              num_shares)\n",
    "print (df_benchmark_trades)"
   ]
  },
  {
   "cell_type": "code",
   "execution_count": 12,
   "metadata": {},
   "outputs": [
    {
     "data": {
      "text/html": [
       "<div>\n",
       "<style scoped>\n",
       "    .dataframe tbody tr th:only-of-type {\n",
       "        vertical-align: middle;\n",
       "    }\n",
       "\n",
       "    .dataframe tbody tr th {\n",
       "        vertical-align: top;\n",
       "    }\n",
       "\n",
       "    .dataframe thead th {\n",
       "        text-align: right;\n",
       "    }\n",
       "</style>\n",
       "<table border=\"1\" class=\"dataframe\">\n",
       "  <thead>\n",
       "    <tr style=\"text-align: right;\">\n",
       "      <th></th>\n",
       "      <th>JPM</th>\n",
       "    </tr>\n",
       "  </thead>\n",
       "  <tbody>\n",
       "  </tbody>\n",
       "</table>\n",
       "</div>"
      ],
      "text/plain": [
       "Empty DataFrame\n",
       "Columns: [JPM]\n",
       "Index: []"
      ]
     },
     "execution_count": 12,
     "metadata": {},
     "output_type": "execute_result"
    }
   ],
   "source": [
    "import pandas as pd\n",
    "import os\n",
    "# from util import get_data\n",
    "def symbol_to_path(symbol, base_dir=None):\n",
    "    \"\"\"Return CSV file path given ticker symbol.\"\"\"\n",
    "    if base_dir is None:\n",
    "        base_dir = os.environ.get(\"MARKET_DATA_DIR\", '../Data/')\n",
    "    return os.path.join(base_dir, \"{}.csv\".format(str(symbol)))\n"
   ]
  },
  {
   "cell_type": "code",
   "execution_count": 13,
   "metadata": {},
   "outputs": [
    {
     "data": {
      "text/html": [
       "<div>\n",
       "<style scoped>\n",
       "    .dataframe tbody tr th:only-of-type {\n",
       "        vertical-align: middle;\n",
       "    }\n",
       "\n",
       "    .dataframe tbody tr th {\n",
       "        vertical-align: top;\n",
       "    }\n",
       "\n",
       "    .dataframe thead th {\n",
       "        text-align: right;\n",
       "    }\n",
       "</style>\n",
       "<table border=\"1\" class=\"dataframe\">\n",
       "  <thead>\n",
       "    <tr style=\"text-align: right;\">\n",
       "      <th></th>\n",
       "      <th>JPM</th>\n",
       "    </tr>\n",
       "  </thead>\n",
       "  <tbody>\n",
       "  </tbody>\n",
       "</table>\n",
       "</div>"
      ],
      "text/plain": [
       "Empty DataFrame\n",
       "Columns: [JPM]\n",
       "Index: []"
      ]
     },
     "execution_count": 13,
     "metadata": {},
     "output_type": "execute_result"
    }
   ],
   "source": [
    "\n",
    "df = pd.DataFrame()\n",
    "\n",
    "s = symbol\n",
    "df_temp = pd.read_csv(symbol_to_path(s), index_col='Datetime',\n",
    "        parse_dates=True, usecols=['Datetime', 'Close'], na_values=['nan'])\n",
    "df_temp = df_temp.rename(columns={'Close': s})\n",
    "df = df.join(df_temp)\n",
    "if s == 'SPY':  # drop dates SPY did not trade\n",
    "    df = df.dropna(subset=[\"SPY\"])\n",
    "\n",
    "# test = get_data(, addSPY=False)#.dropna()\n",
    "df.head()"
   ]
  },
  {
   "cell_type": "code",
   "execution_count": 14,
   "metadata": {},
   "outputs": [
    {
     "data": {
      "text/html": [
       "<div>\n",
       "<style scoped>\n",
       "    .dataframe tbody tr th:only-of-type {\n",
       "        vertical-align: middle;\n",
       "    }\n",
       "\n",
       "    .dataframe tbody tr th {\n",
       "        vertical-align: top;\n",
       "    }\n",
       "\n",
       "    .dataframe thead th {\n",
       "        text-align: right;\n",
       "    }\n",
       "</style>\n",
       "<table border=\"1\" class=\"dataframe\">\n",
       "  <thead>\n",
       "    <tr style=\"text-align: right;\">\n",
       "      <th></th>\n",
       "      <th>JPM</th>\n",
       "    </tr>\n",
       "    <tr>\n",
       "      <th>Datetime</th>\n",
       "      <th></th>\n",
       "    </tr>\n",
       "  </thead>\n",
       "  <tbody>\n",
       "    <tr>\n",
       "      <th>2021-01-04 14:30:00</th>\n",
       "      <td>127.660003</td>\n",
       "    </tr>\n",
       "    <tr>\n",
       "      <th>2021-01-04 14:35:00</th>\n",
       "      <td>127.610000</td>\n",
       "    </tr>\n",
       "    <tr>\n",
       "      <th>2021-01-04 14:40:00</th>\n",
       "      <td>127.561599</td>\n",
       "    </tr>\n",
       "    <tr>\n",
       "      <th>2021-01-04 14:45:00</th>\n",
       "      <td>127.559997</td>\n",
       "    </tr>\n",
       "    <tr>\n",
       "      <th>2021-01-04 14:50:00</th>\n",
       "      <td>127.319999</td>\n",
       "    </tr>\n",
       "    <tr>\n",
       "      <th>...</th>\n",
       "      <td>...</td>\n",
       "    </tr>\n",
       "    <tr>\n",
       "      <th>2022-02-28 20:40:00</th>\n",
       "      <td>141.000000</td>\n",
       "    </tr>\n",
       "    <tr>\n",
       "      <th>2022-02-28 20:45:00</th>\n",
       "      <td>141.425003</td>\n",
       "    </tr>\n",
       "    <tr>\n",
       "      <th>2022-02-28 20:50:00</th>\n",
       "      <td>141.229995</td>\n",
       "    </tr>\n",
       "    <tr>\n",
       "      <th>2022-02-28 20:55:00</th>\n",
       "      <td>141.830001</td>\n",
       "    </tr>\n",
       "    <tr>\n",
       "      <th>2022-02-28 21:00:00</th>\n",
       "      <td>141.800003</td>\n",
       "    </tr>\n",
       "  </tbody>\n",
       "</table>\n",
       "<p>22867 rows × 1 columns</p>\n",
       "</div>"
      ],
      "text/plain": [
       "                            JPM\n",
       "Datetime                       \n",
       "2021-01-04 14:30:00  127.660003\n",
       "2021-01-04 14:35:00  127.610000\n",
       "2021-01-04 14:40:00  127.561599\n",
       "2021-01-04 14:45:00  127.559997\n",
       "2021-01-04 14:50:00  127.319999\n",
       "...                         ...\n",
       "2022-02-28 20:40:00  141.000000\n",
       "2022-02-28 20:45:00  141.425003\n",
       "2022-02-28 20:50:00  141.229995\n",
       "2022-02-28 20:55:00  141.830001\n",
       "2022-02-28 21:00:00  141.800003\n",
       "\n",
       "[22867 rows x 1 columns]"
      ]
     },
     "execution_count": 14,
     "metadata": {},
     "output_type": "execute_result"
    }
   ],
   "source": [
    "df_temp"
   ]
  },
  {
   "cell_type": "markdown",
   "metadata": {},
   "source": [
    "Create an instance of StrategyLearner and retrieve a trades dataframe via test_policy"
   ]
  },
  {
   "cell_type": "code",
   "execution_count": 4,
   "metadata": {},
   "outputs": [
    {
     "name": "stderr",
     "output_type": "stream",
     "text": [
      "/home1/zydong/miniconda3/envs/anaconda/lib/python3.9/site-packages/pandas/util/_decorators.py:311: SettingWithCopyWarning: \n",
      "A value is trying to be set on a copy of a slice from a DataFrame\n",
      "\n",
      "See the caveats in the documentation: https://pandas.pydata.org/pandas-docs/stable/user_guide/indexing.html#returning-a-view-versus-a-copy\n",
      "  return func(*args, **kwargs)\n"
     ]
    },
    {
     "name": "stdout",
     "output_type": "stream",
     "text": [
      "1 -0.23691541279996076\n",
      "2 0.222215870213619\n",
      "3 -0.5532588578277347\n",
      "4 -0.07996974262823894\n",
      "5 0.8945293748903203\n",
      "6 0.19095167055801993\n",
      "7 0.3183303773255939\n",
      "8 1.2987755263953749\n",
      "9 -0.35599214692160247\n",
      "10 0.6201346989977815\n",
      "11 0.6306691162333258\n",
      "12 1.2768079043389906\n",
      "13 0.5760665860429864\n",
      "14 1.2406806780977073\n",
      "15 1.1728572221819054\n",
      "16 1.415042685657908\n",
      "17 1.2379838752872345\n",
      "18 0.9585216092470098\n",
      "19 1.8348893234141277\n",
      "20 1.3812693038751003\n",
      "21 1.5276137662564544\n",
      "22 1.0564109967557471\n",
      "23 1.0914109612964875\n",
      "24 1.5696818755489048\n",
      "25 2.2178981623224785\n",
      "26 1.5000422634410768\n",
      "27 2.0684312932736235\n",
      "28 1.2493453198476419\n",
      "29 1.6090558137231512\n",
      "30 1.245606790064023\n",
      "31 1.5835302827121456\n",
      "32 1.8381053912542658\n",
      "33 2.1941278786447627\n",
      "34 0.14679400509040155\n",
      "35 0.9261584017860144\n",
      "36 0.5671200719895403\n",
      "37 1.7857997253759734\n",
      "38 1.4478574969643936\n",
      "39 1.3977531106005963\n",
      "40 1.1652219726386315\n",
      "41 0.8556186475644803\n",
      "42 1.071436508073811\n",
      "43 2.131723214748273\n",
      "44 1.9763156592201128\n",
      "45 2.165658300200306\n",
      "46 2.323117108118868\n",
      "47 1.441439181373012\n",
      "48 2.176409512332837\n",
      "49 1.9188428772135395\n",
      "50 1.6657225051930091\n",
      "51 1.0407589970478666\n",
      "52 2.4069839716715147\n",
      "53 1.1264475422993154\n",
      "54 1.7219756041594136\n",
      "55 2.2901416582133787\n",
      "56 1.440667746793108\n",
      "57 1.9120138330040575\n",
      "58 1.8466773264277454\n",
      "59 2.0382828294181166\n",
      "60 2.0027591498119057\n",
      "61 1.3289856666511282\n",
      "62 1.4995330943286604\n",
      "63 2.6262412301792164\n",
      "64 1.5724829873015462\n",
      "65 1.4620822908327802\n",
      "66 1.4403714326444106\n",
      "67 1.881776852747966\n",
      "68 1.5301209240117928\n",
      "69 2.2813969607310036\n",
      "70 2.6312474868664864\n",
      "71 1.5183136481725745\n",
      "72 1.8234029212127818\n",
      "73 1.9343768573863318\n",
      "74 1.396375782270472\n",
      "75 1.9955237570683972\n",
      "76 2.4288636482407218\n",
      "77 2.6343160858548726\n",
      "78 1.070271673487657\n",
      "79 1.7506887520257213\n",
      "80 1.9231833625128778\n",
      "81 1.5068073504769206\n",
      "82 2.2900543221340874\n",
      "83 1.2951819612183164\n",
      "84 2.492853895889825\n",
      "85 1.669982920998822\n",
      "86 2.2747883118487224\n",
      "87 2.1790847242214464\n",
      "88 2.5070239693489986\n",
      "89 1.5510538863823742\n",
      "90 1.8543132092652965\n",
      "91 2.373861248551274\n",
      "92 2.1512700615088476\n",
      "93 1.743750678987835\n",
      "94 1.6248284808516793\n",
      "95 1.9959357249897465\n",
      "96 2.8665793025236006\n",
      "97 1.9994861828873758\n",
      "98 1.9735823860996435\n",
      "99 2.5808919159024595\n",
      "100 1.9913265896591357\n"
     ]
    },
    {
     "data": {
      "image/png": "[encoded data removed]",
      "text/plain": [
       "<Figure size 432x288 with 1 Axes>"
      ]
     },
     "metadata": {
      "needs_background": "light"
     },
     "output_type": "display_data"
    }
   ],
   "source": [
    "# Train and test a StrategyLearner\n",
    "# Set verbose to True will print out and plot the cumulative return for each training epoch\n",
    "\n",
    "import StrategyLearner\n",
    "importlib.reload(StrategyLearner)\n",
    "from StrategyLearner import StrategyLearner\n",
    "\n",
    "stl = StrategyLearner(num_shares=num_shares, impact=impact, \n",
    "                      commission=commission, verbose=True, num_actions=3)\n",
    "stl.add_evidence(start_val=start_val)"
   ]
  },
  {
   "cell_type": "code",
   "execution_count": 14,
   "metadata": {},
   "outputs": [
    {
     "data": {
      "text/plain": [
       "array([[-0.00080857,  0.00780608,  0.00295597],\n",
       "       [-0.00226468,  0.00174283,  0.01960489],\n",
       "       [ 0.00407096,  0.0122709 ,  0.        ],\n",
       "       ...,\n",
       "       [ 0.010524  ,  0.        ,  0.        ],\n",
       "       [-0.00027966,  0.00637425,  0.        ],\n",
       "       [ 0.01906739,  0.00123392,  0.00021646]])"
      ]
     },
     "execution_count": 14,
     "metadata": {},
     "output_type": "execute_result"
    }
   ],
   "source": [
    "stl.q_learner.Q"
   ]
  },
  {
   "cell_type": "code",
   "execution_count": 8,
   "metadata": {},
   "outputs": [
    {
     "name": "stdout",
     "output_type": "stream",
     "text": [
      "Cummulative Return  1.413002999999994\n",
      "Datetime\n",
      "2021-09-01       0.0\n",
      "2021-09-02       0.0\n",
      "2021-09-03       0.0\n",
      "2021-09-08       0.0\n",
      "2021-09-09       0.0\n",
      "               ...  \n",
      "2021-12-23   -1000.0\n",
      "2021-12-28       0.0\n",
      "2021-12-29    1000.0\n",
      "2021-12-30       0.0\n",
      "2021-12-31       0.0\n",
      "Length: 67, dtype: float64\n"
     ]
    },
    {
     "name": "stderr",
     "output_type": "stream",
     "text": [
      "/home1/zydong/miniconda3/envs/anaconda/lib/python3.9/site-packages/pandas/core/generic.py:6392: SettingWithCopyWarning: \n",
      "A value is trying to be set on a copy of a slice from a DataFrame\n",
      "\n",
      "See the caveats in the documentation: https://pandas.pydata.org/pandas-docs/stable/user_guide/indexing.html#returning-a-view-versus-a-copy\n",
      "  return self._update_inplace(result)\n"
     ]
    }
   ],
   "source": [
    "# import StrategyLearner\n",
    "# importlib.reload(StrategyLearner)\n",
    "# from StrategyLearner import StrategyLearner\n",
    "# stl = StrategyLearner(num_shares=num_shares, impact=impact, \n",
    "#                       commission=commission, verbose=True, num_actions=3)\n",
    "# stl.q_learner.Q = pickle.load(open(\"Q_table.pkl\", 'rb'))\n",
    "# stl.q_learner.rar = 0\n",
    "# stl.add_evidence(start_val=start_val)\n",
    "\n",
    "# stl = pickle.load(open(\"Q_table.pkl\", 'rb'))\n",
    "# print(stl.q_learner.Q)\n",
    "symbol = \"PM\"\n",
    "start_date = dt.datetime(2021, 9, 1)\n",
    "end_date = dt.datetime(2021, 12, 31)\n",
    "\n",
    "df_trades, prices = stl.test_policy(symbol=symbol, start_date=start_date, end_date=end_date)\n",
    "print (df_trades)"
   ]
  },
  {
   "cell_type": "code",
   "execution_count": 10,
   "metadata": {},
   "outputs": [],
   "source": [
    "import pandas as pd\n",
    "import numpy as np"
   ]
  },
  {
   "cell_type": "code",
   "execution_count": 11,
   "metadata": {},
   "outputs": [
    {
     "data": {
      "text/plain": [
       "Datetime\n",
       "2021-09-01    1000.0\n",
       "2021-09-02       0.0\n",
       "2021-09-03       0.0\n",
       "2021-09-08       0.0\n",
       "2021-09-09       0.0\n",
       "               ...  \n",
       "2021-12-23       0.0\n",
       "2021-12-28       0.0\n",
       "2021-12-29       0.0\n",
       "2021-12-30       0.0\n",
       "2021-12-31   -1000.0\n",
       "Length: 67, dtype: float64"
      ]
     },
     "execution_count": 11,
     "metadata": {},
     "output_type": "execute_result"
    }
   ],
   "source": [
    "df_benchmark_trades = pd.Series(np.zeros(len(prices)), index=prices.index)\n",
    "df_benchmark_trades.iloc[0] = num_shares\n",
    "df_benchmark_trades.iloc[-1] = -num_shares\n",
    "df_benchmark_trades"
   ]
  },
  {
   "cell_type": "code",
   "execution_count": 5,
   "metadata": {},
   "outputs": [
    {
     "data": {
      "text/plain": [
       "1048576"
      ]
     },
     "execution_count": 5,
     "metadata": {},
     "output_type": "execute_result"
    }
   ],
   "source": [
    "2**20"
   ]
  },
  {
   "cell_type": "code",
   "execution_count": 12,
   "metadata": {},
   "outputs": [
    {
     "name": "stdout",
     "output_type": "stream",
     "text": [
      "Performances during training period for PM\n",
      "Date Range: 2021-09-01 00:00:00 to 2021-12-31 00:00:00\n",
      "Sharpe Ratio of Portfolio: -0.35609718434286697\n",
      "Sharpe Ratio of Benchmark : 1.8768661429958353\n",
      "\n",
      "Cumulative Return of Portfolio: 14.130029999999941\n",
      "Cumulative Return of Benchmark : -8.559996999999989\n",
      "\n",
      "Standard Deviation of Portfolio: 10.90023513754688\n",
      "Standard Deviation of Benchmark : 6.172261426717834\n",
      "\n",
      "Average Daily Return of Portfolio: -0.24451422833550326\n",
      "Average Daily Return of Benchmark : 0.7297554415563802\n",
      "\n",
      "Final Portfolio Value: 15130.02999999994\n",
      "Final Benchmark Value: -7559.9969999999885\n"
     ]
    },
    {
     "name": "stderr",
     "output_type": "stream",
     "text": [
      "/home1/zydong/miniconda3/envs/anaconda/lib/python3.9/site-packages/pandas/core/generic.py:6392: SettingWithCopyWarning: \n",
      "A value is trying to be set on a copy of a slice from a DataFrame\n",
      "\n",
      "See the caveats in the documentation: https://pandas.pydata.org/pandas-docs/stable/user_guide/indexing.html#returning-a-view-versus-a-copy\n",
      "  return self._update_inplace(result)\n"
     ]
    },
    {
     "data": {
      "image/png": "[encoded data removed]",
      "text/plain": [
       "<Figure size 864x432 with 1 Axes>"
      ]
     },
     "metadata": {
      "needs_background": "light"
     },
     "output_type": "display_data"
    }
   ],
   "source": [
    "\n",
    "# Retrieve performance stats via a market simulator\n",
    "print (\"Performances during training period for {}\".format(symbol))\n",
    "print (\"Date Range: {} to {}\".format(start_date, end_date))\n",
    "market_simulator(df_trades, df_benchmark_trades, prices=prices, \n",
    "                    start_val=start_val, commission=commission, impact=impact)"
   ]
  },
  {
   "cell_type": "code",
   "execution_count": 55,
   "metadata": {},
   "outputs": [
    {
     "data": {
      "text/plain": [
       "array([[ 0.00701002,  0.01533277, -0.02469315],\n",
       "       [ 0.01005247,  0.00541853,  0.        ],\n",
       "       [ 0.00712302, -0.00022469, -0.00370593],\n",
       "       ...,\n",
       "       [ 0.00576021,  0.        ,  0.        ],\n",
       "       [ 0.00291273,  0.        ,  0.02525839],\n",
       "       [ 0.00473769,  0.        ,  0.        ]])"
      ]
     },
     "execution_count": 55,
     "metadata": {},
     "output_type": "execute_result"
    }
   ],
   "source": [
    "\"\"\"Q table\"\"\"\n",
    "stl.q_learner.Q"
   ]
  },
  {
   "cell_type": "code",
   "execution_count": 13,
   "metadata": {},
   "outputs": [],
   "source": [
    "import pickle\n",
    "\n",
    "with open('stl.pkl', 'wb') as output:\n",
    "    pickle.dump(stl.q_learner.Q, output, pickle.HIGHEST_PROTOCOL)"
   ]
  },
  {
   "cell_type": "code",
   "execution_count": 9,
   "metadata": {
    "scrolled": true
   },
   "outputs": [
    {
     "name": "stdout",
     "output_type": "stream",
     "text": [
      "1 -0.5893999999999999\n",
      "2 -0.0928\n",
      "3 0.3097000000000001\n",
      "4 0.2811999999999999\n",
      "5 0.3621000000000001\n",
      "6 0.3447\n",
      "7 0.3447\n",
      "8 0.3447\n",
      "9 0.3447\n",
      "10 0.3447\n",
      "11 0.3447\n",
      "12 0.3447\n",
      "13 0.3447\n",
      "14 0.3447\n",
      "15 0.3447\n",
      "16 0.3447\n",
      "17 0.3447\n",
      "18 0.3447\n",
      "19 0.3447\n",
      "20 0.3447\n",
      "21 0.3447\n"
     ]
    },
    {
     "data": {
      "image/png": "[encoded data removed]",
      "text/plain": [
       "<matplotlib.figure.Figure at 0x7f256859b6d8>"
      ]
     },
     "metadata": {},
     "output_type": "display_data"
    },
    {
     "name": "stdout",
     "output_type": "stream",
     "text": [
      "            Shares\n",
      "Date              \n",
      "2008-01-16   -1000\n",
      "2008-01-22    1000\n",
      "2008-01-30    1000\n",
      "2008-01-31   -1000\n",
      "2008-02-06   -1000\n",
      "2008-02-25    1000\n",
      "2008-02-28   -1000\n",
      "2008-03-17    1000\n",
      "2008-03-25    1000\n",
      "2008-03-26   -1000\n",
      "2008-04-04   -1000\n",
      "2008-04-21    1000\n",
      "2008-04-23   -1000\n",
      "2008-04-24    1000\n",
      "2008-05-08   -1000\n",
      "2008-05-13    1000\n",
      "2008-05-14   -1000\n",
      "2008-06-23    1000\n",
      "2008-06-24   -1000\n",
      "2008-07-16    1000\n",
      "2008-07-23    1000\n",
      "2008-07-24   -1000\n",
      "2008-07-31   -1000\n",
      "2008-08-01    1000\n",
      "2008-08-11   -1000\n",
      "2008-08-26    1000\n",
      "2008-09-22   -1000\n",
      "2008-09-23    1000\n",
      "2008-10-02    1000\n",
      "2008-10-03   -1000\n",
      "...            ...\n",
      "2009-04-16    1000\n",
      "2009-04-17   -1000\n",
      "2009-04-27   -1000\n",
      "2009-04-28    1000\n",
      "2009-04-30   -1000\n",
      "2009-05-01    1000\n",
      "2009-05-22   -1000\n",
      "2009-05-27    1000\n",
      "2009-06-02   -1000\n",
      "2009-06-04    1000\n",
      "2009-06-09   -1000\n",
      "2009-06-17    1000\n",
      "2009-06-18   -1000\n",
      "2009-06-19    1000\n",
      "2009-06-22   -1000\n",
      "2009-06-29    1000\n",
      "2009-07-02   -1000\n",
      "2009-07-09    1000\n",
      "2009-09-01   -1000\n",
      "2009-09-10    1000\n",
      "2009-09-30   -1000\n",
      "2009-10-07    1000\n",
      "2009-10-23   -1000\n",
      "2009-11-09    1000\n",
      "2009-11-18   -1000\n",
      "2009-12-14    1000\n",
      "2009-12-15   -1000\n",
      "2009-12-21    1000\n",
      "2009-12-29   -1000\n",
      "2009-12-30    1000\n",
      "\n",
      "[88 rows x 1 columns]\n"
     ]
    }
   ],
   "source": [
    "# Train and test a StrategyLearner\n",
    "# Set verbose to True will print out and plot the cumulative return for each training epoch\n",
    "stl = StrategyLearner(num_shares=num_shares, impact=impact, \n",
    "                      commission=commission, verbose=True,\n",
    "                      num_states=3000, num_actions=3)\n",
    "stl.add_evidence(symbol=symbol, start_val=start_val, \n",
    "                 start_date=start_date, end_date=end_date)\n",
    "df_trades = stl.test_policy(symbol=symbol, start_date=start_date,\n",
    "                            end_date=end_date)\n",
    "print (df_trades)"
   ]
  },
  {
   "cell_type": "markdown",
   "metadata": {},
   "source": [
    "Retrieve performance stats via a market simulator"
   ]
  },
  {
   "cell_type": "code",
   "execution_count": 13,
   "metadata": {},
   "outputs": [
    {
     "name": "stdout",
     "output_type": "stream",
     "text": [
      "Performances during training period for JPM\n",
      "Date Range: 2021-01-01 00:00:00 to 2022-03-01 00:00:00\n"
     ]
    },
    {
     "ename": "NameError",
     "evalue": "name 'df_benchmark_trades' is not defined",
     "output_type": "error",
     "traceback": [
      "\u001b[0;31m---------------------------------------------------------------------------\u001b[0m",
      "\u001b[0;31mNameError\u001b[0m                                 Traceback (most recent call last)",
      "\u001b[0;32m/tmp/ipykernel_3440463/1965424250.py\u001b[0m in \u001b[0;36m<module>\u001b[0;34m\u001b[0m\n\u001b[1;32m      2\u001b[0m \u001b[0mprint\u001b[0m \u001b[0;34m(\u001b[0m\u001b[0;34m\"Performances during training period for {}\"\u001b[0m\u001b[0;34m.\u001b[0m\u001b[0mformat\u001b[0m\u001b[0;34m(\u001b[0m\u001b[0msymbol\u001b[0m\u001b[0;34m)\u001b[0m\u001b[0;34m)\u001b[0m\u001b[0;34m\u001b[0m\u001b[0;34m\u001b[0m\u001b[0m\n\u001b[1;32m      3\u001b[0m \u001b[0mprint\u001b[0m \u001b[0;34m(\u001b[0m\u001b[0;34m\"Date Range: {} to {}\"\u001b[0m\u001b[0;34m.\u001b[0m\u001b[0mformat\u001b[0m\u001b[0;34m(\u001b[0m\u001b[0mstart_date\u001b[0m\u001b[0;34m,\u001b[0m \u001b[0mend_date\u001b[0m\u001b[0;34m)\u001b[0m\u001b[0;34m)\u001b[0m\u001b[0;34m\u001b[0m\u001b[0;34m\u001b[0m\u001b[0m\n\u001b[0;32m----> 4\u001b[0;31m market_simulator(df_trades, df_benchmark_trades, symbol=symbol, \n\u001b[0m\u001b[1;32m      5\u001b[0m                  start_val=start_val, commission=commission, impact=impact)\n",
      "\u001b[0;31mNameError\u001b[0m: name 'df_benchmark_trades' is not defined"
     ]
    }
   ],
   "source": [
    "# Retrieve performance stats via a market simulator\n",
    "print (\"Performances during training period for {}\".format(symbol))\n",
    "print (\"Date Range: {} to {}\".format(start_date, end_date))\n",
    "market_simulator(df_trades, df_benchmark_trades, symbol=symbol, \n",
    "                 start_val=start_val, commission=commission, impact=impact)"
   ]
  },
  {
   "cell_type": "code",
   "execution_count": 12,
   "metadata": {
    "scrolled": false
   },
   "outputs": [
    {
     "name": "stdout",
     "output_type": "stream",
     "text": [
      "Performances during training period for JPM\n",
      "Date Range: 2008-01-01 00:00:00 to 2009-12-31 00:00:00\n",
      "Sharpe Ratio of Portfolio: 1.12511257551527\n",
      "Sharpe Ratio of Benchmark : 0.15691840642403027\n",
      "\n",
      "Cumulative Return of Portfolio: 0.3447\n",
      "Cumulative Return of Benchmark : 0.012299999999999978\n",
      "\n",
      "Standard Deviation of Portfolio: 0.009055938131234257\n",
      "Standard Deviation of Benchmark : 0.017004366271213767\n",
      "\n",
      "Average Daily Return of Portfolio: 0.0006418435116413186\n",
      "Average Daily Return of Benchmark : 0.00016808697819094035\n",
      "\n",
      "Final Portfolio Value: 134470.0\n",
      "Final Benchmark Value: 101230.0\n"
     ]
    },
    {
     "data": {
      "image/png": "[encoded data removed]",
      "text/plain": [
       "<matplotlib.figure.Figure at 0x7f25684d5ba8>"
      ]
     },
     "metadata": {},
     "output_type": "display_data"
    }
   ],
   "source": [
    "# Retrieve performance stats via a market simulator\n",
    "print (\"Performances during training period for {}\".format(symbol))\n",
    "print (\"Date Range: {} to {}\".format(start_date, end_date))\n",
    "market_simulator(df_trades, df_benchmark_trades, symbol=symbol, \n",
    "                 start_val=start_val, commission=commission, impact=impact)"
   ]
  },
  {
   "cell_type": "markdown",
   "metadata": {},
   "source": [
    "---\n",
    "## 2) Out-of-sample performance <a class=\"anchor\" id=\"second\"></a>\n",
    "\n",
    "Show the performances of portfolio and benchmark in the out-of-sample period"
   ]
  },
  {
   "cell_type": "markdown",
   "metadata": {},
   "source": [
    "Specify the start and end dates for this period"
   ]
  },
  {
   "cell_type": "code",
   "execution_count": 13,
   "metadata": {
    "collapsed": true
   },
   "outputs": [],
   "source": [
    "start_date = dt.datetime(2010, 1, 1)\n",
    "end_date = dt.datetime(2011, 12, 31)"
   ]
  },
  {
   "cell_type": "markdown",
   "metadata": {},
   "source": [
    "Get a dataframe of benchmark data. Benchmark is a portfolio starting with ``$``100,000, investing in 1000 shares of symbol and holding that position."
   ]
  },
  {
   "cell_type": "code",
   "execution_count": 14,
   "metadata": {
    "collapsed": true,
    "scrolled": false
   },
   "outputs": [],
   "source": [
    "df_benchmark_trades = create_df_benchmark(symbol, start_date, end_date, \n",
    "                                          num_shares)"
   ]
  },
  {
   "cell_type": "markdown",
   "metadata": {},
   "source": [
    "Use the same StrategyLearner trained above and retrieve a trades dataframe via test_policy"
   ]
  },
  {
   "cell_type": "code",
   "execution_count": 15,
   "metadata": {
    "scrolled": true
   },
   "outputs": [
    {
     "name": "stdout",
     "output_type": "stream",
     "text": [
      "            Shares\n",
      "Date              \n",
      "2010-01-19   -1000\n",
      "2010-02-09    1000\n",
      "2010-02-10   -1000\n",
      "2010-02-18    1000\n",
      "2010-04-05   -1000\n",
      "2010-04-07    1000\n",
      "2010-04-09   -1000\n",
      "2010-04-14    1000\n",
      "2010-04-20   -1000\n",
      "2010-06-02    1000\n",
      "2010-06-03   -1000\n",
      "2010-06-17    1000\n",
      "2010-06-30   -1000\n",
      "2010-07-13    1000\n",
      "2010-07-14    1000\n",
      "2010-07-15   -1000\n",
      "2010-07-21   -1000\n",
      "2010-07-23    1000\n",
      "2010-07-27   -1000\n",
      "2010-07-30    1000\n",
      "2010-08-06   -1000\n",
      "2010-08-27    1000\n",
      "2010-08-31   -1000\n",
      "2010-09-02    1000\n",
      "2010-09-08    1000\n",
      "2010-09-09   -1000\n",
      "2010-09-14    1000\n",
      "2010-09-15   -1000\n",
      "2010-09-24   -1000\n",
      "2010-10-07    1000\n",
      "...            ...\n",
      "2011-08-03   -1000\n",
      "2011-08-24    1000\n",
      "2011-08-29   -1000\n",
      "2011-08-30    1000\n",
      "2011-08-31   -1000\n",
      "2011-09-01    1000\n",
      "2011-09-02   -1000\n",
      "2011-09-26    1000\n",
      "2011-09-27   -1000\n",
      "2011-10-05    1000\n",
      "2011-10-10   -1000\n",
      "2011-10-12    1000\n",
      "2011-10-13   -1000\n",
      "2011-10-18    1000\n",
      "2011-10-20   -1000\n",
      "2011-10-21    1000\n",
      "2011-10-25   -1000\n",
      "2011-10-27    1000\n",
      "2011-10-31   -1000\n",
      "2011-12-02    1000\n",
      "2011-12-06    1000\n",
      "2011-12-07   -1000\n",
      "2011-12-09   -1000\n",
      "2011-12-12    1000\n",
      "2011-12-13   -1000\n",
      "2011-12-15    1000\n",
      "2011-12-16   -1000\n",
      "2011-12-22    1000\n",
      "2011-12-23   -1000\n",
      "2011-12-27    1000\n",
      "\n",
      "[116 rows x 1 columns]\n"
     ]
    }
   ],
   "source": [
    "df_trades = stl.test_policy(symbol=symbol, start_date=start_date, \n",
    "                            end_date=end_date)\n",
    "print (df_trades)"
   ]
  },
  {
   "cell_type": "markdown",
   "metadata": {},
   "source": [
    "Retrieve performance stats via a market simulator"
   ]
  },
  {
   "cell_type": "code",
   "execution_count": 16,
   "metadata": {
    "scrolled": false
   },
   "outputs": [
    {
     "name": "stdout",
     "output_type": "stream",
     "text": [
      "\n",
      "Performances during testing period for JPM\n",
      "Date Range: 2010-01-01 00:00:00 to 2011-12-31 00:00:00\n",
      "Sharpe Ratio of Portfolio: 0.3228723006593053\n",
      "Sharpe Ratio of Benchmark : -0.2568129607376273\n",
      "\n",
      "Cumulative Return of Portfolio: 0.05620000000000003\n",
      "Cumulative Return of Benchmark : -0.08340000000000003\n",
      "\n",
      "Standard Deviation of Portfolio: 0.0065329616932926346\n",
      "Standard Deviation of Benchmark : 0.008481007498803986\n",
      "\n",
      "Average Daily Return of Portfolio: 0.00013287418985118472\n",
      "Average Daily Return of Benchmark : -0.00013720316019481813\n",
      "\n",
      "Final Portfolio Value: 105620.0\n",
      "Final Benchmark Value: 91660.0\n"
     ]
    },
    {
     "data": {
      "image/png": "[encoded data removed]",
      "text/plain": [
       "<matplotlib.figure.Figure at 0x7f2564a4cc50>"
      ]
     },
     "metadata": {},
     "output_type": "display_data"
    }
   ],
   "source": [
    "print (\"\\nPerformances during testing period for {}\".format(symbol))\n",
    "print (\"Date Range: {} to {}\".format(start_date, end_date))\n",
    "market_simulator(df_trades, df_benchmark_trades, symbol=symbol, \n",
    "                 start_val=start_val, commission=commission, impact=impact)"
   ]
  }
 ],
 "metadata": {
  "kernelspec": {
   "display_name": "Python 3",
   "language": "python",
   "name": "python3"
  },
  "language_info": {
   "codemirror_mode": {
    "name": "ipython",
    "version": 3
   },
   "file_extension": ".py",
   "mimetype": "text/x-python",
   "name": "python",
   "nbconvert_exporter": "python",
   "pygments_lexer": "ipython3",
   "version": "3.9.7"
  }
 },
 "nbformat": 4,
 "nbformat_minor": 2
}
